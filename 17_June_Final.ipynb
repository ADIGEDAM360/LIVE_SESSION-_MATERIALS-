{
  "cells": [
    {
      "cell_type": "markdown",
      "metadata": {
        "id": "view-in-github",
        "colab_type": "text"
      },
      "source": [
        "<a href=\"https://colab.research.google.com/github/ADIGEDAM360/LIVE_SESSION-_MATERIALS-/blob/main/17_June_Final.ipynb\" target=\"_parent\"><img src=\"https://colab.research.google.com/assets/colab-badge.svg\" alt=\"Open In Colab\"/></a>"
      ]
    },
    {
      "cell_type": "markdown",
      "metadata": {
        "id": "5tsuW2uPNNR4"
      },
      "source": [
        "<p><strong>Some of the most common types of exceptions are:</strong></p>\n",
        "<ul>\n",
        "<li>\n",
        "<p><strong><code>ZeroDivisionError</code>:</strong> Raised when the second argument of a division or modulo operation is zero.</p>\n",
        "</li>\n",
        "<li>\n",
        "<p><strong><code>TypeError</code>:</strong> Raised when an operation or function is applied to an object of inappropriate type.</p>\n",
        "</li>\n",
        "<li>\n",
        "<p><strong><code>ValueError</code>:</strong> Raised when a built-in operation or function receives an argument that has the right type but an inappropriate value.</p>\n",
        "</li>\n",
        "<li>\n",
        "<p><strong><code>IndexError</code>:</strong> Raised when a sequence subscript is out of range.</p>\n",
        "</li>\n",
        "<li>\n",
        "<p><strong><code>KeyError</code>:</strong> Raised when a dictionary key is not found.</p>\n",
        "</li>\n",
        "<li>\n",
        "<p><strong><code>FileNotFoundError</code>:</strong> Raised when a file or directory is requested but doesn&rsquo;t exist.</p>\n",
        "</li>\n",
        "<li>\n",
        "<p><strong><code>IOError</code>:</strong> Raised when an I/O operation (such as a print statement, the built-in open() function or a method of a file object) fails for an I/O-related reason.</p>\n",
        "</li>\n",
        "<li>\n",
        "<p><strong><code>ImportError</code>:</strong> Raised when an <code>import</code> statement fails to find the module definition or when a <code>from ... import</code> fails to find a name that is to be imported.</p>\n",
        "</li>\n",
        "<li>\n",
        "<p><strong><code>MemoryError</code>:</strong> Raised when an operation runs out of memory.</p>\n",
        "</li>\n",
        "<li>\n",
        "<p><strong><code>OverflowError</code>:</strong> Raised when the result of an arithmetic operation is too large to be expressed by the normal number format.</p>\n",
        "</li>\n",
        "<li>\n",
        "<p><strong><code>AttributeError</code>:</strong> Raised when an attribute reference or assignment fails.</p>\n",
        "</li>\n",
        "<li>\n",
        "<p><strong><code>SyntaxError</code>:</strong> Raised when the parser encounters a syntax error.</p>\n",
        "</li>\n",
        "<li>\n",
        "<p><strong><code>IndentationError</code>:</strong> Raised when there is incorrect indentation.</p>\n",
        "</li>\n",
        "<li>\n",
        "<p><strong><code>NameError</code>:</strong> Raised when a local or global name is not found.</p>\n",
        "</li>\n",
        "</ul>"
      ]
    },
    {
      "cell_type": "markdown",
      "metadata": {
        "id": "xeEj1dgBNNRz"
      },
      "source": [
        "# Exception handling\n",
        "\n",
        "<ul>\n",
        "<li>It is a mechanism in programming to handle runtime errors, which are known as exceptions.&nbsp;</li>\n",
        "<li>It's a process where you define a block of code that will be executed if an error occurs when the program is running. This allows the program to continue running (or terminate gracefully) even if an error occurs.</li>\n",
        "<li>Without exception handling, an error occurring in a program would cause the program to immediately stop. This can be very undesirable, especially in production software, as it can lead to a poor user experience or even data loss.</li>\n",
        "<li>In Python, you use&nbsp;<code><strong>try</strong></code>&nbsp;and&nbsp;<code><strong>except</strong></code>&nbsp;blocks. The&nbsp;<code>try</code>&nbsp;block contains the code that might raise an exception, and the&nbsp;<code><strong>except</strong></code>&nbsp;block contains the code that will be executed if an exception is raised.</li>\n",
        "<li>The <strong>else</strong> block allows you run code without errors.</li>\n",
        "<li>The <strong>finally</strong> block executes code regardless of the try-and-except blocks.</li>\n",
        "</ul>"
      ]
    },
    {
      "cell_type": "markdown",
      "metadata": {
        "id": "scX7IwEgNNR6"
      },
      "source": [
        "<p><strong><span style=\"font-family: monospace;\">Role of Try and Except:</span></strong></p>\n",
        "<ul>\n",
        "<li>\n",
        "<p><strong><code>try</code> block:</strong> The code within the <code>try</code> block contains the statements that may potentially raise an exception. It allows you to specify the section of code that you want to monitor for exceptions.</p>\n",
        "</li>\n",
        "<li>\n",
        "<p><strong><code>except</code> block:</strong> If an exception occurs within the <code>try</code> block, the corresponding <code>except</code> block(s) are executed. The <code>except</code> block allows you to define the actions or code that should be executed when a specific exception is raised. You can have multiple <code>except</code> blocks to handle different types of exceptions.</p>\n",
        "</li>\n",
        "<li>The <strong>else</strong> block allows you run code without errors.</li>\n",
        "<li>The <strong>finally</strong> block executes code regardless of the try-and-except blocks.</li>\n",
        "<li> Use the <strong>raise</strong> keyword to throw (or raise) an exception.</li>\n",
        "</ul>"
      ]
    },
    {
      "cell_type": "code",
      "execution_count": null,
      "metadata": {
        "id": "MijQxcUONNR8",
        "outputId": "b1b4b7d4-e34c-43b5-d247-47103bb62d82"
      },
      "outputs": [
        {
          "name": "stdout",
          "output_type": "stream",
          "text": [
            "Some issue with x\n"
          ]
        }
      ],
      "source": [
        "# try raise an exception bec x is not defined\n",
        "try:\n",
        "  print(x)\n",
        "except:\n",
        "  print(\"Some issue with x\")"
      ]
    },
    {
      "cell_type": "code",
      "execution_count": null,
      "metadata": {
        "id": "nbSZEsGaNNSA",
        "outputId": "9b54fbaa-3f7c-4752-9d05-06feb5802654"
      },
      "outputs": [
        {
          "name": "stdout",
          "output_type": "stream",
          "text": [
            "Good morning today is 17th June\n",
            "No issues\n"
          ]
        }
      ],
      "source": [
        "\"\"\"You can use the \"else\" keyword to specify a block\n",
        "   of code that will be performed if no errors are raised:\"\"\"\n",
        "try:\n",
        "  print(\"Good morning today is 17th June\")\n",
        "except:\n",
        "  print(\"Some issue\")\n",
        "else:\n",
        "  print(\"No issues\")"
      ]
    },
    {
      "cell_type": "code",
      "execution_count": null,
      "metadata": {
        "id": "iVniufL4NNSB",
        "outputId": "3bb4d63f-aaf7-4542-c262-e71c9452d6e6"
      },
      "outputs": [
        {
          "name": "stdout",
          "output_type": "stream",
          "text": [
            "2\n",
            "The 'try except' executed\n"
          ]
        }
      ],
      "source": [
        "\"\"\"If the \"finally\" block is supplied,\n",
        "   it will be executed whether or not the try block raises an error.\"\"\"\n",
        "\n",
        "try:\n",
        "  x = 2\n",
        "  print(x)\n",
        "except:\n",
        "  print(\"There is no X\")\n",
        "finally:\n",
        "  print(\"The 'try except' executed\")\n"
      ]
    },
    {
      "cell_type": "code",
      "execution_count": null,
      "metadata": {
        "id": "Y1FhjhbeNNSC",
        "outputId": "8b4c28b7-a133-41c0-84e2-3893e63e9ebc"
      },
      "outputs": [
        {
          "ename": "Exception",
          "evalue": "There is a problem: X is below zero",
          "output_type": "error",
          "traceback": [
            "\u001b[1;31m---------------------------------------------------------------------------\u001b[0m",
            "\u001b[1;31mException\u001b[0m                                 Traceback (most recent call last)",
            "\u001b[1;32m<ipython-input-17-b914fe32332e>\u001b[0m in \u001b[0;36m<module>\u001b[1;34m\u001b[0m\n\u001b[0;32m      4\u001b[0m \u001b[1;33m\u001b[0m\u001b[0m\n\u001b[0;32m      5\u001b[0m \u001b[1;32mif\u001b[0m \u001b[0mx\u001b[0m \u001b[1;33m<\u001b[0m \u001b[1;36m10\u001b[0m\u001b[1;33m:\u001b[0m\u001b[1;33m\u001b[0m\u001b[1;33m\u001b[0m\u001b[0m\n\u001b[1;32m----> 6\u001b[1;33m   \u001b[1;32mraise\u001b[0m \u001b[0mException\u001b[0m\u001b[1;33m(\u001b[0m\u001b[1;34m\"There is a problem: X is below zero\"\u001b[0m\u001b[1;33m)\u001b[0m\u001b[1;33m\u001b[0m\u001b[1;33m\u001b[0m\u001b[0m\n\u001b[0m",
            "\u001b[1;31mException\u001b[0m: There is a problem: X is below zero"
          ]
        }
      ],
      "source": [
        "# Use the \"raise\" keyword to throw an exception.\n",
        "\n",
        "x = 2\n",
        "\n",
        "if x < 10:\n",
        "  raise Exception(\"There is a problem: X is below zero\")"
      ]
    },
    {
      "cell_type": "markdown",
      "metadata": {
        "id": "k6tqKxnGNNSD"
      },
      "source": [
        "# ZeroDivisionError"
      ]
    },
    {
      "cell_type": "code",
      "execution_count": null,
      "metadata": {
        "id": "gis4jx-9NNSE",
        "outputId": "d3d889e5-7ff7-4bc8-c059-660f9768f1b5"
      },
      "outputs": [
        {
          "name": "stdout",
          "output_type": "stream",
          "text": [
            "Please enter the numerator: 4\n",
            "Please enter the denominator: 0\n"
          ]
        },
        {
          "ename": "ZeroDivisionError",
          "evalue": "division by zero",
          "output_type": "error",
          "traceback": [
            "\u001b[1;31m---------------------------------------------------------------------------\u001b[0m",
            "\u001b[1;31mZeroDivisionError\u001b[0m                         Traceback (most recent call last)",
            "\u001b[1;32m<ipython-input-18-cc493999b073>\u001b[0m in \u001b[0;36m<module>\u001b[1;34m\u001b[0m\n\u001b[0;32m      2\u001b[0m \u001b[0md\u001b[0m \u001b[1;33m=\u001b[0m \u001b[0mint\u001b[0m\u001b[1;33m(\u001b[0m\u001b[0minput\u001b[0m\u001b[1;33m(\u001b[0m\u001b[1;34m\"Please enter the denominator: \"\u001b[0m\u001b[1;33m)\u001b[0m\u001b[1;33m)\u001b[0m\u001b[1;33m\u001b[0m\u001b[1;33m\u001b[0m\u001b[0m\n\u001b[0;32m      3\u001b[0m \u001b[1;33m\u001b[0m\u001b[0m\n\u001b[1;32m----> 4\u001b[1;33m \u001b[0mresult\u001b[0m \u001b[1;33m=\u001b[0m \u001b[0mn\u001b[0m \u001b[1;33m/\u001b[0m \u001b[0md\u001b[0m\u001b[1;33m\u001b[0m\u001b[1;33m\u001b[0m\u001b[0m\n\u001b[0m\u001b[0;32m      5\u001b[0m \u001b[0mprint\u001b[0m\u001b[1;33m(\u001b[0m\u001b[1;34m\"Result:\"\u001b[0m\u001b[1;33m,\u001b[0m \u001b[0mresult\u001b[0m\u001b[1;33m)\u001b[0m\u001b[1;33m\u001b[0m\u001b[1;33m\u001b[0m\u001b[0m\n",
            "\u001b[1;31mZeroDivisionError\u001b[0m: division by zero"
          ]
        }
      ],
      "source": [
        "n = int(input(\"Please enter the numerator: \"))\n",
        "d = int(input(\"Please enter the denominator: \"))\n",
        "\n",
        "result = n / d\n",
        "print(\"Result:\", result)"
      ]
    },
    {
      "cell_type": "code",
      "execution_count": null,
      "metadata": {
        "id": "LI64DqpeNNSE",
        "outputId": "c13612fe-87f9-446f-8d22-66d2f57e7791"
      },
      "outputs": [
        {
          "name": "stdout",
          "output_type": "stream",
          "text": [
            "Please enter the numerator: 4\n",
            "Please enter the denominator: 0\n",
            "There is an Error: Division by zero is not allowed.\n"
          ]
        }
      ],
      "source": [
        "try:\n",
        "    n = int(input(\"Please enter the numerator: \"))\n",
        "    d = int(input(\"Please enter the denominator: \"))\n",
        "\n",
        "    result = n / d\n",
        "    print(\"Result:\", result)\n",
        "\n",
        "except ZeroDivisionError:\n",
        "    print(\"There is an Error: Division by zero is not allowed.\")\n"
      ]
    },
    {
      "cell_type": "markdown",
      "metadata": {
        "id": "RC-RmyJ_NNSF"
      },
      "source": [
        "# ValueError"
      ]
    },
    {
      "cell_type": "code",
      "execution_count": null,
      "metadata": {
        "id": "JeIfil4HNNSF"
      },
      "outputs": [],
      "source": [
        "\"\"\"Raised when a built-in operation or function receives an\n",
        "   argument that has the right type but an inappropriate value.\"\"\"\n",
        "\n",
        "n = int(input(\"Please enter the numerator: \"))\n",
        "d = int(input(\"Please enter the denominator: \"))\n",
        "\n",
        "result = n / d\n",
        "print(\"Result:\", result)"
      ]
    },
    {
      "cell_type": "code",
      "execution_count": null,
      "metadata": {
        "id": "XO4P5jtZNNSF",
        "outputId": "dbf5cf64-72e4-435e-e7db-cc0aec524f85"
      },
      "outputs": [
        {
          "name": "stdout",
          "output_type": "stream",
          "text": [
            "Please enter the numerator: 4/2.56\n",
            "Error: Please enter valid integers for the numerator and denominator.\n"
          ]
        }
      ],
      "source": [
        "try:\n",
        "    n = int(input(\"Please enter the numerator: \"))\n",
        "    d = int(input(\"Please enter the denominator: \"))\n",
        "\n",
        "    result = n / d\n",
        "    print(\"Result:\", result)\n",
        "\n",
        "except ValueError:\n",
        "    print(\"Please enter valid integers for the numerator and denominator.\")"
      ]
    },
    {
      "cell_type": "code",
      "execution_count": null,
      "metadata": {
        "id": "VFFsxnO4NNSG",
        "outputId": "70979b9b-192e-46d4-eca2-39a9201a1a8e"
      },
      "outputs": [
        {
          "name": "stdout",
          "output_type": "stream",
          "text": [
            "Please enter the numerator: 2\n",
            "Please enter the denominator: 2\n",
            "Result: 1.0\n"
          ]
        }
      ],
      "source": [
        "# Multiple exceptions\n",
        "\n",
        "try:\n",
        "    n = int(input(\"Please enter the numerator: \"))\n",
        "    d = int(input(\"Please enter the denominator: \"))\n",
        "\n",
        "    result = n / d\n",
        "    print(\"Result:\", result)\n",
        "\n",
        "except ValueError:\n",
        "    print(\"Please enter valid integers for the numerator and denominator.\")\n",
        "\n",
        "except ZeroDivisionError:\n",
        "    print(\"Division by zero is not allowed.\")"
      ]
    },
    {
      "cell_type": "markdown",
      "metadata": {
        "id": "y4ZD2DYSNNSG"
      },
      "source": [
        "# TypeError"
      ]
    },
    {
      "cell_type": "code",
      "execution_count": null,
      "metadata": {
        "id": "mmyJLVgjNNSH",
        "outputId": "56226b49-1b56-4f8a-b6fe-482a5b69cddd"
      },
      "outputs": [
        {
          "name": "stdout",
          "output_type": "stream",
          "text": [
            "Error: TypeError occurred.\n"
          ]
        }
      ],
      "source": [
        "try:\n",
        "    x = \"10\"  # Assigning a string value to the variable x\n",
        "    y = 2\n",
        "\n",
        "    z = x + y  # Attempt addition between a string and an integer\n",
        "\n",
        "    print(\"Result:\", z)\n",
        "\n",
        "except TypeError:\n",
        "    print(\"Error: TypeError occurred.\")"
      ]
    },
    {
      "cell_type": "markdown",
      "metadata": {
        "id": "FdEVpTLsNNSH"
      },
      "source": [
        "# IndexError"
      ]
    },
    {
      "cell_type": "code",
      "execution_count": null,
      "metadata": {
        "id": "aTunzo8vNNSH",
        "outputId": "b4675f42-c431-48f8-928a-fd71e007f176"
      },
      "outputs": [
        {
          "name": "stdout",
          "output_type": "stream",
          "text": [
            "IndexError error occurred.\n"
          ]
        }
      ],
      "source": [
        "try:\n",
        "    list1 = [1, 2, 3]\n",
        "\n",
        "    print(list1[3])  # Trying to reach an index that is out of range\n",
        "\n",
        "except IndexError:\n",
        "    print(\"IndexError error occurred.\")"
      ]
    },
    {
      "cell_type": "markdown",
      "metadata": {
        "id": "hmkKFtGhNNSI"
      },
      "source": [
        "# KeyError"
      ]
    },
    {
      "cell_type": "code",
      "execution_count": null,
      "metadata": {
        "id": "gkwSEML5NNSI",
        "outputId": "020d182f-ff01-4077-9eb5-93417c51131b"
      },
      "outputs": [
        {
          "name": "stdout",
          "output_type": "stream",
          "text": [
            "KeyError error occurred.\n"
          ]
        }
      ],
      "source": [
        "try:\n",
        "    my_dictionary = {\"name\": \"John\", \"age\": 30}\n",
        "\n",
        "    print(my_dictionary[\"city\"])  # Accessing a KEY which does not exist\n",
        "\n",
        "except KeyError:\n",
        "    print(\"KeyError error occurred.\")"
      ]
    },
    {
      "cell_type": "markdown",
      "metadata": {
        "id": "MQX0V1O_NNSI"
      },
      "source": [
        "# FileNotFoundError"
      ]
    },
    {
      "cell_type": "code",
      "execution_count": null,
      "metadata": {
        "id": "AYU0yJAoNNSI",
        "outputId": "ee839a9e-c966-460b-a6cd-cc7bc331a741"
      },
      "outputs": [
        {
          "ename": "NameError",
          "evalue": "name 'file_path' is not defined",
          "output_type": "error",
          "traceback": [
            "\u001b[1;31m---------------------------------------------------------------------------\u001b[0m",
            "\u001b[1;31mNameError\u001b[0m                                 Traceback (most recent call last)",
            "\u001b[1;32m<ipython-input-5-dac2ec95e2fe>\u001b[0m in \u001b[0;36m<module>\u001b[1;34m\u001b[0m\n\u001b[0;32m      2\u001b[0m     \u001b[0mfile_location\u001b[0m \u001b[1;33m=\u001b[0m \u001b[1;34m\"my_file.txt\"\u001b[0m\u001b[1;33m\u001b[0m\u001b[1;33m\u001b[0m\u001b[0m\n\u001b[0;32m      3\u001b[0m \u001b[1;33m\u001b[0m\u001b[0m\n\u001b[1;32m----> 4\u001b[1;33m     \u001b[1;32mwith\u001b[0m \u001b[0mopen\u001b[0m\u001b[1;33m(\u001b[0m\u001b[0mfile_path\u001b[0m\u001b[1;33m,\u001b[0m \u001b[1;34m\"r\"\u001b[0m\u001b[1;33m)\u001b[0m \u001b[1;32mas\u001b[0m \u001b[0mfile\u001b[0m\u001b[1;33m:\u001b[0m\u001b[1;33m\u001b[0m\u001b[1;33m\u001b[0m\u001b[0m\n\u001b[0m\u001b[0;32m      5\u001b[0m         \u001b[0mcontents\u001b[0m \u001b[1;33m=\u001b[0m \u001b[0mfile\u001b[0m\u001b[1;33m.\u001b[0m\u001b[0mread\u001b[0m\u001b[1;33m(\u001b[0m\u001b[1;33m)\u001b[0m\u001b[1;33m\u001b[0m\u001b[1;33m\u001b[0m\u001b[0m\n\u001b[0;32m      6\u001b[0m \u001b[1;33m\u001b[0m\u001b[0m\n",
            "\u001b[1;31mNameError\u001b[0m: name 'file_path' is not defined"
          ]
        }
      ],
      "source": [
        "try:\n",
        "    file_location = \"my_file.txt\"\n",
        "\n",
        "    with open(file_path, \"r\") as file:\n",
        "        contents = file.read()\n",
        "\n",
        "except FileNotFoundError:\n",
        "    print(f\"File '{file_path}' not found.\")"
      ]
    },
    {
      "cell_type": "markdown",
      "metadata": {
        "id": "LFjjU-A-NNSJ"
      },
      "source": [
        "# IOError"
      ]
    },
    {
      "cell_type": "code",
      "execution_count": null,
      "metadata": {
        "id": "0D8LIbURNNSJ",
        "outputId": "a30cc354-81cc-454f-ded0-877938ce86e1"
      },
      "outputs": [
        {
          "name": "stdout",
          "output_type": "stream",
          "text": [
            "Unable to write to file 'file123.txt'.\n"
          ]
        }
      ],
      "source": [
        "try:\n",
        "    file_location = \"file123.txt\"\n",
        "\n",
        "    with open(file_location, \"w\") as file:\n",
        "        file.write(\"This is my file\")\n",
        "\n",
        "except IOError:\n",
        "    print(f\"Unable to write to file '{file_location}'.\")"
      ]
    },
    {
      "cell_type": "markdown",
      "metadata": {
        "id": "fCvyqBwiNNSJ"
      },
      "source": [
        "# ImportError"
      ]
    },
    {
      "cell_type": "code",
      "execution_count": null,
      "metadata": {
        "id": "E-mC5ZgBNNSK"
      },
      "outputs": [],
      "source": [
        "try:\n",
        "    import library1234\n",
        "\n",
        "except ImportError:\n",
        "    print(\"Unsuccessful to import module 'library1234'.\")"
      ]
    },
    {
      "cell_type": "markdown",
      "metadata": {
        "id": "TCX-1XEXNNSK"
      },
      "source": [
        "# MemoryError"
      ]
    },
    {
      "cell_type": "code",
      "execution_count": null,
      "metadata": {
        "id": "WZSpkMOQNNSK",
        "outputId": "4f3277b2-420f-428a-e011-94c724e70359"
      },
      "outputs": [
        {
          "name": "stdout",
          "output_type": "stream",
          "text": [
            "Insufficient memory for the list.\n"
          ]
        }
      ],
      "source": [
        "# Creating a large list that consumes a significant amount of memory\n",
        "try:\n",
        "    large_list = [1] * (10 ** 12)\n",
        "\n",
        "    \"\"\"The phrase [1] * (10 ** 12) generates a\n",
        "    list by repeatedly repeating the element [1].\"\"\"\n",
        "\n",
        "except MemoryError:\n",
        "    print(\"Insufficient memory for the list.\")"
      ]
    },
    {
      "cell_type": "markdown",
      "metadata": {
        "id": "3543eVOVNNSK"
      },
      "source": [
        "# OverflowError"
      ]
    },
    {
      "cell_type": "code",
      "execution_count": null,
      "metadata": {
        "id": "wL79KdQqNNSL"
      },
      "outputs": [],
      "source": [
        "\"\"\"\"Raised when the result of an arithmetic operation is too large\n",
        "    to be expressed by the normal number format.\"\"\"\"\n",
        "try:\n",
        "    result = 5000 ** 10  # Attempting to calculate an extremely large number\n",
        "\n",
        "except OverflowError:\n",
        "    print(\"Error: Calculation resulted in an overflow.\")\n",
        "else:\n",
        "    print(result)"
      ]
    },
    {
      "cell_type": "markdown",
      "metadata": {
        "id": "SUtb_0KcNNSL"
      },
      "source": [
        "# AttributeError"
      ]
    },
    {
      "cell_type": "code",
      "execution_count": null,
      "metadata": {
        "id": "44RyzR_MNNSL",
        "outputId": "3258431b-14f3-4eaf-a2f9-dad9f48f2fbb"
      },
      "outputs": [
        {
          "ename": "AttributeError",
          "evalue": "'int' object has no attribute 'append'",
          "output_type": "error",
          "traceback": [
            "\u001b[1;31m---------------------------------------------------------------------------\u001b[0m",
            "\u001b[1;31mAttributeError\u001b[0m                            Traceback (most recent call last)",
            "\u001b[1;32m<ipython-input-3-9671491120b2>\u001b[0m in \u001b[0;36m<module>\u001b[1;34m\u001b[0m\n\u001b[0;32m      4\u001b[0m \u001b[1;33m\u001b[0m\u001b[0m\n\u001b[0;32m      5\u001b[0m     \u001b[1;31m# Using append method\u001b[0m\u001b[1;33m\u001b[0m\u001b[1;33m\u001b[0m\u001b[1;33m\u001b[0m\u001b[0m\n\u001b[1;32m----> 6\u001b[1;33m     \u001b[0mage\u001b[0m\u001b[1;33m.\u001b[0m\u001b[0mappend\u001b[0m\u001b[1;33m(\u001b[0m\u001b[1;36m12\u001b[0m\u001b[1;33m)\u001b[0m\u001b[1;33m\u001b[0m\u001b[1;33m\u001b[0m\u001b[0m\n\u001b[0m\u001b[0;32m      7\u001b[0m \u001b[1;33m\u001b[0m\u001b[0m\n\u001b[0;32m      8\u001b[0m \u001b[1;32mexcept\u001b[0m \u001b[0mOverflowError\u001b[0m\u001b[1;33m:\u001b[0m\u001b[1;33m\u001b[0m\u001b[1;33m\u001b[0m\u001b[0m\n",
            "\u001b[1;31mAttributeError\u001b[0m: 'int' object has no attribute 'append'"
          ]
        }
      ],
      "source": [
        "try:\n",
        "\n",
        "    age = 20\n",
        "\n",
        "    # Using append method\n",
        "    age.append(12)\n",
        "\n",
        "except OverflowError:\n",
        "    print(\"'age' object has no attribute.\")\n",
        "else:\n",
        "    print(result)"
      ]
    },
    {
      "cell_type": "markdown",
      "metadata": {
        "id": "0fkMEEBUNNSL"
      },
      "source": [
        "# SyntaxError"
      ]
    },
    {
      "cell_type": "code",
      "execution_count": null,
      "metadata": {
        "id": "zfYxdJP8NNSM",
        "outputId": "118f277a-b439-4d05-d962-230d2a88d3f4"
      },
      "outputs": [
        {
          "ename": "SyntaxError",
          "evalue": "invalid syntax (<ipython-input-4-fa05a04e9107>, line 3)",
          "output_type": "error",
          "traceback": [
            "\u001b[1;36m  File \u001b[1;32m\"<ipython-input-4-fa05a04e9107>\"\u001b[1;36m, line \u001b[1;32m3\u001b[0m\n\u001b[1;33m    age = 20\u001b[0m\n\u001b[1;37m    ^\u001b[0m\n\u001b[1;31mSyntaxError\u001b[0m\u001b[1;31m:\u001b[0m invalid syntax\n"
          ]
        }
      ],
      "source": [
        "try:\n",
        "    print(\"John age is:\"\n",
        "    age = 20\n",
        "\n",
        "except SyntaxError:\n",
        "    print(\"Error: Invalid syntax.\")"
      ]
    },
    {
      "cell_type": "markdown",
      "metadata": {
        "id": "QO0DjrwDNNSM"
      },
      "source": [
        "# IndentationError"
      ]
    },
    {
      "cell_type": "code",
      "execution_count": null,
      "metadata": {
        "id": "SzoRkH5NNNSM",
        "outputId": "05f96b62-fce4-4f06-90a2-a8b0d586841d"
      },
      "outputs": [
        {
          "ename": "IndentationError",
          "evalue": "unexpected indent (<ipython-input-5-713cecd987b1>, line 3)",
          "output_type": "error",
          "traceback": [
            "\u001b[1;36m  File \u001b[1;32m\"<ipython-input-5-713cecd987b1>\"\u001b[1;36m, line \u001b[1;32m3\u001b[0m\n\u001b[1;33m    age = 50\u001b[0m\n\u001b[1;37m    ^\u001b[0m\n\u001b[1;31mIndentationError\u001b[0m\u001b[1;31m:\u001b[0m unexpected indent\n"
          ]
        }
      ],
      "source": [
        "try:\n",
        "    name = \"John\"\n",
        "        age = 50\n",
        "\n",
        "except IndentationError:\n",
        "    print(\"There is an IndentationError\")"
      ]
    },
    {
      "cell_type": "markdown",
      "metadata": {
        "id": "Fc2xNKLjNNSM"
      },
      "source": [
        "# NameError"
      ]
    },
    {
      "cell_type": "code",
      "execution_count": null,
      "metadata": {
        "id": "Un9a4VcINNSN",
        "outputId": "59fafe5f-b505-4277-d395-70b77c6542f9"
      },
      "outputs": [
        {
          "name": "stdout",
          "output_type": "stream",
          "text": [
            "NameError is there\n"
          ]
        }
      ],
      "source": [
        "try:\n",
        "    side = \"4\"\n",
        "    print(area)  # Attempting to access an undefined variable\n",
        "\n",
        "except NameError:\n",
        "    print(\"NameError is there\")"
      ]
    },
    {
      "cell_type": "code",
      "execution_count": null,
      "metadata": {
        "id": "n-BS0KbnNNSN"
      },
      "outputs": [],
      "source": []
    },
    {
      "cell_type": "code",
      "execution_count": null,
      "metadata": {
        "id": "Gyk_Dww3NNSS"
      },
      "outputs": [],
      "source": []
    },
    {
      "cell_type": "code",
      "execution_count": null,
      "metadata": {
        "id": "-Nanpn6RNNST"
      },
      "outputs": [],
      "source": []
    },
    {
      "cell_type": "code",
      "execution_count": null,
      "metadata": {
        "id": "pi9aqRI4NNST"
      },
      "outputs": [],
      "source": []
    },
    {
      "cell_type": "code",
      "execution_count": null,
      "metadata": {
        "id": "zxe2gQUXNNST"
      },
      "outputs": [],
      "source": []
    },
    {
      "cell_type": "code",
      "execution_count": null,
      "metadata": {
        "id": "O88lSdp6NNST"
      },
      "outputs": [],
      "source": []
    },
    {
      "cell_type": "code",
      "execution_count": null,
      "metadata": {
        "id": "rKwwF2XMNNST"
      },
      "outputs": [],
      "source": []
    },
    {
      "cell_type": "code",
      "execution_count": null,
      "metadata": {
        "id": "e6NNKhjtNNSU"
      },
      "outputs": [],
      "source": []
    },
    {
      "cell_type": "code",
      "execution_count": null,
      "metadata": {
        "id": "_oWcpA5YNNSU"
      },
      "outputs": [],
      "source": []
    },
    {
      "cell_type": "code",
      "execution_count": null,
      "metadata": {
        "id": "VT873UvVNNSU"
      },
      "outputs": [],
      "source": []
    },
    {
      "cell_type": "code",
      "execution_count": null,
      "metadata": {
        "id": "mhpW4qpdNNSU"
      },
      "outputs": [],
      "source": []
    },
    {
      "cell_type": "code",
      "execution_count": null,
      "metadata": {
        "id": "fCBsCPGiNNSU"
      },
      "outputs": [],
      "source": []
    },
    {
      "cell_type": "code",
      "execution_count": null,
      "metadata": {
        "id": "2E3xHWFSNNSV"
      },
      "outputs": [],
      "source": []
    },
    {
      "cell_type": "code",
      "execution_count": null,
      "metadata": {
        "id": "eVJUCEZ5NNSV"
      },
      "outputs": [],
      "source": []
    },
    {
      "cell_type": "code",
      "execution_count": null,
      "metadata": {
        "id": "a1f_7ww8NNSV"
      },
      "outputs": [],
      "source": []
    },
    {
      "cell_type": "code",
      "execution_count": null,
      "metadata": {
        "id": "PRkZjjkRNNSV"
      },
      "outputs": [],
      "source": []
    },
    {
      "cell_type": "code",
      "execution_count": null,
      "metadata": {
        "id": "YMbQNdw9NNSV"
      },
      "outputs": [],
      "source": []
    },
    {
      "cell_type": "code",
      "execution_count": null,
      "metadata": {
        "id": "e7eQEuXtNNSV"
      },
      "outputs": [],
      "source": []
    },
    {
      "cell_type": "code",
      "execution_count": null,
      "metadata": {
        "id": "5QqKXjNPNNSW"
      },
      "outputs": [],
      "source": []
    },
    {
      "cell_type": "code",
      "execution_count": null,
      "metadata": {
        "id": "MOQ_3cTkNNSW"
      },
      "outputs": [],
      "source": []
    },
    {
      "cell_type": "code",
      "execution_count": null,
      "metadata": {
        "id": "jKIoixLeNNSW"
      },
      "outputs": [],
      "source": []
    },
    {
      "cell_type": "code",
      "execution_count": null,
      "metadata": {
        "id": "kuJANlsgNNSW"
      },
      "outputs": [],
      "source": []
    },
    {
      "cell_type": "code",
      "execution_count": null,
      "metadata": {
        "id": "PhNwzF7HNNSX"
      },
      "outputs": [],
      "source": []
    },
    {
      "cell_type": "code",
      "execution_count": null,
      "metadata": {
        "id": "KZIjliM0NNSX"
      },
      "outputs": [],
      "source": []
    },
    {
      "cell_type": "code",
      "execution_count": null,
      "metadata": {
        "id": "SQZUsy1_NNSX"
      },
      "outputs": [],
      "source": []
    },
    {
      "cell_type": "code",
      "execution_count": null,
      "metadata": {
        "id": "VltLVeusNNSX"
      },
      "outputs": [],
      "source": []
    },
    {
      "cell_type": "code",
      "execution_count": null,
      "metadata": {
        "id": "rTmcsYwpNNSY"
      },
      "outputs": [],
      "source": []
    },
    {
      "cell_type": "code",
      "execution_count": null,
      "metadata": {
        "id": "-9FMzkdcNNSY"
      },
      "outputs": [],
      "source": []
    },
    {
      "cell_type": "code",
      "execution_count": null,
      "metadata": {
        "id": "aMInKqQhNNSY"
      },
      "outputs": [],
      "source": []
    },
    {
      "cell_type": "code",
      "execution_count": null,
      "metadata": {
        "id": "gMXBAeSHNNSY"
      },
      "outputs": [],
      "source": []
    },
    {
      "cell_type": "code",
      "execution_count": null,
      "metadata": {
        "id": "ed5eGnssNNSZ"
      },
      "outputs": [],
      "source": []
    },
    {
      "cell_type": "code",
      "execution_count": null,
      "metadata": {
        "id": "4xPeLlX7NNSZ"
      },
      "outputs": [],
      "source": []
    },
    {
      "cell_type": "code",
      "execution_count": null,
      "metadata": {
        "id": "CIp5kxCbNNSZ"
      },
      "outputs": [],
      "source": []
    },
    {
      "cell_type": "code",
      "execution_count": null,
      "metadata": {
        "id": "z_hWhAG1NNSZ"
      },
      "outputs": [],
      "source": []
    },
    {
      "cell_type": "code",
      "execution_count": null,
      "metadata": {
        "id": "Qk517dasNNSa"
      },
      "outputs": [],
      "source": []
    },
    {
      "cell_type": "code",
      "execution_count": null,
      "metadata": {
        "id": "RXg3s59fNNSa"
      },
      "outputs": [],
      "source": []
    },
    {
      "cell_type": "code",
      "execution_count": null,
      "metadata": {
        "id": "lbzy1RtVNNSb"
      },
      "outputs": [],
      "source": []
    },
    {
      "cell_type": "code",
      "execution_count": null,
      "metadata": {
        "id": "UQXXEPPYNNSb"
      },
      "outputs": [],
      "source": []
    },
    {
      "cell_type": "code",
      "execution_count": null,
      "metadata": {
        "id": "Loqnizu9NNSc"
      },
      "outputs": [],
      "source": []
    },
    {
      "cell_type": "code",
      "execution_count": null,
      "metadata": {
        "id": "vJ146DgqNNSc"
      },
      "outputs": [],
      "source": []
    },
    {
      "cell_type": "code",
      "execution_count": null,
      "metadata": {
        "id": "88PuFWwcNNSc"
      },
      "outputs": [],
      "source": []
    },
    {
      "cell_type": "code",
      "execution_count": null,
      "metadata": {
        "id": "8DBfERNsNNSd"
      },
      "outputs": [],
      "source": []
    },
    {
      "cell_type": "code",
      "execution_count": null,
      "metadata": {
        "id": "_WbUBtaANNSd"
      },
      "outputs": [],
      "source": []
    },
    {
      "cell_type": "code",
      "execution_count": null,
      "metadata": {
        "id": "5xLMP6TtNNSd"
      },
      "outputs": [],
      "source": []
    },
    {
      "cell_type": "code",
      "execution_count": null,
      "metadata": {
        "id": "iGPGjskVNNSe"
      },
      "outputs": [],
      "source": []
    },
    {
      "cell_type": "code",
      "execution_count": null,
      "metadata": {
        "id": "a8qtBEZ5NNSe"
      },
      "outputs": [],
      "source": []
    },
    {
      "cell_type": "code",
      "execution_count": null,
      "metadata": {
        "id": "AYgfvw0vNNSe"
      },
      "outputs": [],
      "source": []
    },
    {
      "cell_type": "code",
      "execution_count": null,
      "metadata": {
        "id": "J3AeZbnbNNSe"
      },
      "outputs": [],
      "source": []
    },
    {
      "cell_type": "code",
      "execution_count": null,
      "metadata": {
        "id": "njfDiQWENNSe"
      },
      "outputs": [],
      "source": []
    },
    {
      "cell_type": "code",
      "execution_count": null,
      "metadata": {
        "id": "t6Q6Fi3zNNSf"
      },
      "outputs": [],
      "source": []
    },
    {
      "cell_type": "code",
      "execution_count": null,
      "metadata": {
        "id": "DqzBmXs2NNSf"
      },
      "outputs": [],
      "source": []
    },
    {
      "cell_type": "code",
      "execution_count": null,
      "metadata": {
        "id": "kE29m9yiNNSf"
      },
      "outputs": [],
      "source": []
    },
    {
      "cell_type": "code",
      "execution_count": null,
      "metadata": {
        "id": "W9XmRlTDNNSf"
      },
      "outputs": [],
      "source": []
    },
    {
      "cell_type": "code",
      "execution_count": null,
      "metadata": {
        "id": "DOxzsAJXNNSg"
      },
      "outputs": [],
      "source": []
    },
    {
      "cell_type": "markdown",
      "metadata": {
        "id": "Rz4C7ZV-NNSg"
      },
      "source": [
        "<p><strong>Here's a brief description of each exception:</strong></p>\n",
        "<ol>\n",
        "<li><strong><code>BaseException</code>:</strong> The base class for all built-in exceptions.</li>\n",
        "<li><strong><code>Exception</code>:</strong> The base class for all non-exit exceptions.</li>\n",
        "<li><strong><code>ArithmeticError</code>:</strong> Raised for any arithmetic errors.</li>\n",
        "<li><strong><code>BufferError</code>:</strong> Raised when operations on a buffer are not possible.</li>\n",
        "<li><strong><code>LookupError</code>:</strong> Raised when a mapping (dictionary) key or sequence index is not found.</li>\n",
        "<li><strong><code>AssertionError</code>:</strong> Raised when an <code>assert</code> statement fails.</li>\n",
        "<li><strong><code>AttributeError</code>:</strong> Raised when attribute reference or assignment fails.</li>\n",
        "<li><strong><code>EOFError</code>:</strong> Raised when the <code>input()</code> function hits an end-of-file condition (EOF).</li>\n",
        "<li><strong><code>FloatingPointError</code>:</strong> Raised when a floating point operation fails.</li>\n",
        "<li><strong><code>GeneratorExit</code>:</strong> Raised when a generator or coroutine is closed.</li>\n",
        "<li><strong><code>ImportError</code>:</strong> Raised when the <code>import</code> statement fails to find the module definition.</li>\n",
        "<li><strong><code>ModuleNotFoundError</code>:</strong> A subclass of <code>ImportError</code>, raised when an <code>import</code> statement fails to find the module.</li>\n",
        "<li><strong><code>IndexError</code>:</strong> Raised when a sequence subscript (index) is out of range.</li>\n",
        "<li><strong><code>KeyError</code>:</strong> Raised when a dictionary key is not found.</li>\n",
        "<li><strong><code>KeyboardInterrupt</code>:</strong> Raised when the user interrupts program execution (usually by pressing Ctrl+C).</li>\n",
        "<li><strong><code>MemoryError</code>:</strong> Raised when an operation runs out of memory.</li>\n",
        "<li><strong><code>NameError</code>:</strong> Raised when a local or global name is not found.</li>\n",
        "<li><strong><code>NotImplementedError</code>:</strong> Raised when an abstract method requiring an override in an inherited class is not provided.</li>\n",
        "<li><strong><code>OSError</code>:</strong> Raised when a system-related error occurs.</li>\n",
        "<li><strong><code>OverflowError</code>:</strong> Raised when the result of an arithmetic operation is too large to be expressed.</li>\n",
        "<li><strong><code>RecursionError</code>:</strong> Raised when the maximum recursion depth has been exceeded.</li>\n",
        "<li><strong><code>ReferenceError</code>:</strong> Raised when a weak reference proxy is used to access a garbage collected referent.</li>\n",
        "<li><strong><code>RuntimeError</code>:</strong> Raised when an error is detected that doesn&rsquo;t fall in any of the other categories.</li>\n",
        "<li><strong><code>StopIteration</code>:</strong> Raised by built-in function <code>next()</code> and an iterator&lsquo;s <code>__next__()</code> method to signal that there are no further items.</li>\n",
        "<li><strong><code>StopAsyncIteration</code>:</strong> Raised by an asynchronous iterator object&rsquo;s <code>__anext__()</code> method to stop the iteration.</li>\n",
        "<li><strong><code>SyntaxError</code>:</strong> Raised by the parser when a syntax error is encountered.</li>\n",
        "<li><strong><code>IndentationError</code>:</strong> Raised when there is incorrect indentation.</li>\n",
        "<li><strong><code>TabError</code>:</strong> Raised when indentation contains mixed tabs and spaces.</li>\n",
        "<li><strong><code>SystemError</code>:</strong> Raised when the interpreter finds an internal problem.</li>\n",
        "<li><strong><code>SystemExit</code>:</strong> Raised by the <code>sys.exit()</code> function.</li>\n",
        "<li><strong><code>TypeError</code>:</strong> Raised when an operation or function is applied to an object of inappropriate type.</li>\n",
        "<li><strong><code>UnboundLocalError</code>:</strong> Raised when a local variable is referenced before it has been assigned a value.</li>\n",
        "<li><strong><code>UnicodeError</code>:</strong> Raised when a Unicode-related encoding or decoding error occurs.</li>\n",
        "<li><strong><code>UnicodeEncodeError</code>:</strong> Raised when a Unicode-related error occurs during encoding.</li>\n",
        "<li><strong><code>UnicodeDecodeError</code>:</strong> Raised when a Unicode-related error occurs during decoding.</li>\n",
        "<li><strong><code>UnicodeTranslateError</code>:</strong> Raised when a Unicode-related error occurs during translating.</li>\n",
        "<li><strong><code>ValueError</code>:</strong> Raised when a built-in operation or function receives an argument that has the right type but an inappropriate value.</li>\n",
        "<li><strong><code>ZeroDivisionError</code>:</strong> Raised when the second argument of a division or modulo operation is zero.</li>\n",
        "<li><strong><code>EnvironmentError</code>:</strong> Base class for exceptions that can occur outside the Python system.</li>\n",
        "<li><strong><code>IOError</code>:</strong> Raised when an I/O operation (such as a print statement, the built-in open() function or a method of a file object)</li>\n",
        "</ol>"
      ]
    },
    {
      "cell_type": "code",
      "execution_count": null,
      "metadata": {
        "id": "a59k9_ShNNSh"
      },
      "outputs": [],
      "source": []
    },
    {
      "cell_type": "code",
      "execution_count": null,
      "metadata": {
        "id": "utAUtWZDNNSh"
      },
      "outputs": [],
      "source": [
        "def quiz_on_exception():\n",
        "    # Quiz Questions\n",
        "    quiz_data = [\n",
        "        {\n",
        "            \"question\": \"Which keyword is used for exception handling?\",\n",
        "            \"options\": ['a) raise', 'b) try', 'c) handle', 'd) exception'],\n",
        "            \"answer\": 'b'\n",
        "        },\n",
        "        {\n",
        "            \"question\": \"What is the purpose of the 'finally' clause in Python exception handling?\",\n",
        "            \"options\": ['a) It executes no matter what', 'b) It is executed if an exception occurs', 'c) It is executed if no exception', 'd) None of the above'],\n",
        "            \"answer\": 'a'\n",
        "        },\n",
        "        {\n",
        "            \"question\": \"Which built-in exception is raised when a function or operation is not implemented yet?\",\n",
        "            \"options\": ['a) NotImplementedError', 'b) ArithmeticError', 'c) BufferError', 'd) AssertionError'],\n",
        "            \"answer\": 'a'\n",
        "        },\n",
        "        {\n",
        "            \"question\": \"Which of the following exceptions is NOT raised by Python built-in operations?\",\n",
        "            \"options\": ['a) IOError', 'b) FileNotFoundError', 'c) KeyNotFoundError', 'd) ZeroDivisionError'],\n",
        "            \"answer\": 'c'\n",
        "        },\n",
        "        {\n",
        "            \"question\": \"What exception is raised when a local or global name is not found?\",\n",
        "            \"options\": ['a) AttributeError', 'b) KeyError', 'c) ImportError', 'd) NameError'],\n",
        "            \"answer\": 'd'\n",
        "        },\n",
        "        {\n",
        "            \"question\": \"What exception is raised when the parser encounters a syntax error?\",\n",
        "            \"options\": ['a) AttributeError', 'b) SyntaxError', 'c) IndentationError', 'd) ValueError'],\n",
        "            \"answer\": 'b'\n",
        "        },\n",
        "        {\n",
        "            \"question\": \"What exception is raised when there is incorrect indentation?\",\n",
        "            \"options\": ['a) IndentationError', 'b) ValueError', 'c) SyntaxError', 'd) TypeError'],\n",
        "            \"answer\": 'a'\n",
        "        },\n",
        "        {\n",
        "            \"question\": \"What exception is raised when an operation or function receives an argument of the right type but an inappropriate value?\",\n",
        "            \"options\": ['a) ValueError', 'b) TypeError', 'c) IndexError', 'd) KeyError'],\n",
        "            \"answer\": 'a'\n",
        "        },\n",
        "        {\n",
        "            \"question\": \"What exception is raised when a sequence subscript is out of range?\",\n",
        "            \"options\": ['a) KeyError', 'b) ValueError', 'c) TypeError', 'd) IndexError'],\n",
        "            \"answer\": 'd'\n",
        "        },\n",
        "        {\n",
        "            \"question\": \"What exception is raised when an import statement fails to find the module definition or when a from ... import fails to find a name that is to be imported?\",\n",
        "            \"options\": ['a) ImportError', 'b) ValueError', 'c) FileNotFoundError', 'd) AttributeError'],\n",
        "            \"answer\": 'a'\n",
        "        },\n",
        "        {\n",
        "            \"question\": \"What exception is raised when an operation runs out of memory?\",\n",
        "            \"options\": ['a) MemoryError', 'b) BufferError', 'c) OverflowError', 'd) ArithmeticError'],\n",
        "            \"answer\": 'a'\n",
        "        },\n",
        "        {\n",
        "            \"question\": \"What exception is raised when the result of an arithmetic operation is too large to be expressed by the normal number format?\",\n",
        "            \"options\": ['a) OverflowError', 'b) MemoryError', 'c) IndexError', 'd) ArithmeticError'],\n",
        "            \"answer\": 'a'\n",
        "        },\n",
        "        {\n",
        "            \"question\": \"What exception is raised when an attribute reference or assignment fails?\",\n",
        "            \"options\": ['a) AttributeError', 'b) KeyError', 'c) ImportError', 'd) NameError'],\n",
        "            \"answer\": 'a'\n",
        "        },\n",
        "        {\n",
        "            \"question\": \"What exception is raised when a file or directory is requested but doesn’t exist?\",\n",
        "            \"options\": ['a) FileNotFoundError', 'b) IOError', 'c) ImportError', 'd) KeyError'],\n",
        "            \"answer\": 'a'\n",
        "        },\n",
        "        {\n",
        "            \"question\": \"What exception is raised when a dictionary key is not found?\",\n",
        "            \"options\": ['a) KeyError', 'b) ValueError', 'c) IndexError', 'd) FileNotFoundError'],\n",
        "            \"answer\": 'a'\n",
        "        },\n",
        "    ]\n",
        "\n",
        "    def ask_question(question_data):\n",
        "        print(question_data[\"question\"])\n",
        "        for option in question_data[\"options\"]:\n",
        "            print(option)\n",
        "        while True:\n",
        "            try:\n",
        "                user_answer = input(\"Enter your answer: \")\n",
        "                if user_answer in ['a', 'b', 'c', 'd']:\n",
        "                    correct = user_answer == question_data[\"answer\"]\n",
        "                    if not correct:\n",
        "                        print(f\"Incorrect.\")\n",
        "                    return user_answer, question_data[\"answer\"], correct\n",
        "                else:\n",
        "                    raise ValueError(\"Invalid option. Please enter a, b, c, or d.\")\n",
        "            except ValueError as e:\n",
        "                print(e)\n",
        "\n",
        "    score = 0\n",
        "    all_answers = []  # a list to store all the user's answers and correct answers\n",
        "\n",
        "    for question_data in quiz_data:\n",
        "        user_answer, correct_answer, correct = ask_question(question_data)\n",
        "        all_answers.append((question_data[\"question\"], user_answer, correct_answer, correct))\n",
        "        if correct:\n",
        "            print(\"Correct!\")\n",
        "            score += 1\n",
        "\n",
        "    print(\"\\n\"+\"-\"*30+\"\\nQuiz Results\\n\"+\"-\"*30)\n",
        "    for item in all_answers:\n",
        "        print(f\"Question: {item[0]}\\nYour Answer: {item[1]}\\nCorrect Answer: {item[2]}\\n{'Correct' if item[3] else 'Incorrect'}\")\n",
        "        print(\"-\"*30)\n",
        "    print(f\"You scored {score}/{len(quiz_data)}.\")\n"
      ]
    },
    {
      "cell_type": "code",
      "execution_count": null,
      "metadata": {
        "id": "sRhLKB3sNNSi",
        "outputId": "0840ce47-000d-4269-a65b-590aa9bb0d70"
      },
      "outputs": [
        {
          "name": "stdout",
          "output_type": "stream",
          "text": [
            "Which keyword is used for exception handling?\n",
            "a) raise\n",
            "b) try\n",
            "c) handle\n",
            "d) exception\n",
            "Enter your answer: a\n",
            "Incorrect.\n",
            "What is the purpose of the 'finally' clause in Python exception handling?\n",
            "a) It executes no matter what\n",
            "b) It is executed if an exception occurs\n",
            "c) It is executed if no exception\n",
            "d) None of the above\n",
            "Enter your answer: a\n",
            "Correct!\n",
            "Which built-in exception is raised when a function or operation is not implemented yet?\n",
            "a) NotImplementedError\n",
            "b) ArithmeticError\n",
            "c) BufferError\n",
            "d) AssertionError\n",
            "Enter your answer: a\n",
            "Correct!\n",
            "Which of the following exceptions is NOT raised by Python built-in operations?\n",
            "a) IOError\n",
            "b) FileNotFoundError\n",
            "c) KeyNotFoundError\n",
            "d) ZeroDivisionError\n",
            "Enter your answer: a\n",
            "Incorrect.\n",
            "What exception is raised when a local or global name is not found?\n",
            "a) AttributeError\n",
            "b) KeyError\n",
            "c) ImportError\n",
            "d) NameError\n",
            "Enter your answer: a\n",
            "Incorrect.\n",
            "What exception is raised when the parser encounters a syntax error?\n",
            "a) AttributeError\n",
            "b) SyntaxError\n",
            "c) IndentationError\n",
            "d) ValueError\n",
            "Enter your answer: a\n",
            "Incorrect.\n",
            "What exception is raised when there is incorrect indentation?\n",
            "a) IndentationError\n",
            "b) ValueError\n",
            "c) SyntaxError\n",
            "d) TypeError\n",
            "Enter your answer: a\n",
            "Correct!\n",
            "What exception is raised when an operation or function receives an argument of the right type but an inappropriate value?\n",
            "a) ValueError\n",
            "b) TypeError\n",
            "c) IndexError\n",
            "d) KeyError\n",
            "Enter your answer: a\n",
            "Correct!\n",
            "What exception is raised when a sequence subscript is out of range?\n",
            "a) KeyError\n",
            "b) ValueError\n",
            "c) TypeError\n",
            "d) IndexError\n",
            "Enter your answer: a\n",
            "Incorrect.\n",
            "What exception is raised when an import statement fails to find the module definition or when a from ... import fails to find a name that is to be imported?\n",
            "a) ImportError\n",
            "b) ValueError\n",
            "c) FileNotFoundError\n",
            "d) AttributeError\n",
            "Enter your answer: a\n",
            "Correct!\n",
            "What exception is raised when an operation runs out of memory?\n",
            "a) MemoryError\n",
            "b) BufferError\n",
            "c) OverflowError\n",
            "d) ArithmeticError\n",
            "Enter your answer: a\n",
            "Correct!\n",
            "What exception is raised when the result of an arithmetic operation is too large to be expressed by the normal number format?\n",
            "a) OverflowError\n",
            "b) MemoryError\n",
            "c) IndexError\n",
            "d) ArithmeticError\n",
            "Enter your answer: a\n",
            "Correct!\n",
            "What exception is raised when an attribute reference or assignment fails?\n",
            "a) AttributeError\n",
            "b) KeyError\n",
            "c) ImportError\n",
            "d) NameError\n",
            "Enter your answer: a\n",
            "Correct!\n",
            "What exception is raised when a file or directory is requested but doesn’t exist?\n",
            "a) FileNotFoundError\n",
            "b) IOError\n",
            "c) ImportError\n",
            "d) KeyError\n",
            "Enter your answer: a\n",
            "Correct!\n",
            "What exception is raised when a dictionary key is not found?\n",
            "a) KeyError\n",
            "b) ValueError\n",
            "c) IndexError\n",
            "d) FileNotFoundError\n",
            "Enter your answer: a\n",
            "Correct!\n",
            "\n",
            "------------------------------\n",
            "Quiz Results\n",
            "------------------------------\n",
            "Question: Which keyword is used for exception handling?\n",
            "Your Answer: a\n",
            "Correct Answer: b\n",
            "Incorrect\n",
            "------------------------------\n",
            "Question: What is the purpose of the 'finally' clause in Python exception handling?\n",
            "Your Answer: a\n",
            "Correct Answer: a\n",
            "Correct\n",
            "------------------------------\n",
            "Question: Which built-in exception is raised when a function or operation is not implemented yet?\n",
            "Your Answer: a\n",
            "Correct Answer: a\n",
            "Correct\n",
            "------------------------------\n",
            "Question: Which of the following exceptions is NOT raised by Python built-in operations?\n",
            "Your Answer: a\n",
            "Correct Answer: c\n",
            "Incorrect\n",
            "------------------------------\n",
            "Question: What exception is raised when a local or global name is not found?\n",
            "Your Answer: a\n",
            "Correct Answer: d\n",
            "Incorrect\n",
            "------------------------------\n",
            "Question: What exception is raised when the parser encounters a syntax error?\n",
            "Your Answer: a\n",
            "Correct Answer: b\n",
            "Incorrect\n",
            "------------------------------\n",
            "Question: What exception is raised when there is incorrect indentation?\n",
            "Your Answer: a\n",
            "Correct Answer: a\n",
            "Correct\n",
            "------------------------------\n",
            "Question: What exception is raised when an operation or function receives an argument of the right type but an inappropriate value?\n",
            "Your Answer: a\n",
            "Correct Answer: a\n",
            "Correct\n",
            "------------------------------\n",
            "Question: What exception is raised when a sequence subscript is out of range?\n",
            "Your Answer: a\n",
            "Correct Answer: d\n",
            "Incorrect\n",
            "------------------------------\n",
            "Question: What exception is raised when an import statement fails to find the module definition or when a from ... import fails to find a name that is to be imported?\n",
            "Your Answer: a\n",
            "Correct Answer: a\n",
            "Correct\n",
            "------------------------------\n",
            "Question: What exception is raised when an operation runs out of memory?\n",
            "Your Answer: a\n",
            "Correct Answer: a\n",
            "Correct\n",
            "------------------------------\n",
            "Question: What exception is raised when the result of an arithmetic operation is too large to be expressed by the normal number format?\n",
            "Your Answer: a\n",
            "Correct Answer: a\n",
            "Correct\n",
            "------------------------------\n",
            "Question: What exception is raised when an attribute reference or assignment fails?\n",
            "Your Answer: a\n",
            "Correct Answer: a\n",
            "Correct\n",
            "------------------------------\n",
            "Question: What exception is raised when a file or directory is requested but doesn’t exist?\n",
            "Your Answer: a\n",
            "Correct Answer: a\n",
            "Correct\n",
            "------------------------------\n",
            "Question: What exception is raised when a dictionary key is not found?\n",
            "Your Answer: a\n",
            "Correct Answer: a\n",
            "Correct\n",
            "------------------------------\n",
            "You scored 10/15.\n"
          ]
        }
      ],
      "source": [
        "quiz_on_exception()"
      ]
    },
    {
      "cell_type": "code",
      "execution_count": null,
      "metadata": {
        "id": "XIJSNEBGNNSj"
      },
      "outputs": [],
      "source": []
    },
    {
      "cell_type": "code",
      "execution_count": null,
      "metadata": {
        "id": "QDMXaweENNSj"
      },
      "outputs": [],
      "source": []
    },
    {
      "cell_type": "code",
      "execution_count": null,
      "metadata": {
        "id": "D2MCBL5TNNSj"
      },
      "outputs": [],
      "source": []
    }
  ],
  "metadata": {
    "kernelspec": {
      "display_name": "Python 3",
      "language": "python",
      "name": "python3"
    },
    "colab": {
      "provenance": [],
      "include_colab_link": true
    }
  },
  "nbformat": 4,
  "nbformat_minor": 0
}